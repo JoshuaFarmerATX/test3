{
 "cells": [
  {
   "cell_type": "code",
   "execution_count": 1,
   "metadata": {},
   "outputs": [
    {
     "name": "stdout",
     "output_type": "stream",
     "text": [
      "argcomplete==1.12.3\n",
      "backcall==0.2.0\n",
      "colorama==0.4.4\n",
      "cycler==0.10.0\n",
      "debugpy==1.4.1\n",
      "decorator==5.0.9\n",
      "entrypoints==0.3\n",
      "importlib-metadata==4.7.1\n",
      "ipykernel==6.2.0\n",
      "ipython==7.27.0\n",
      "ipython-genutils==0.2.0\n",
      "jedi==0.18.0\n",
      "jupyter-client==7.0.1\n",
      "jupyter-core==4.7.1\n",
      "kiwisolver==1.3.2\n",
      "matplotlib==3.4.3\n",
      "matplotlib-inline==0.1.2\n",
      "nest-asyncio==1.5.1\n",
      "numpy==1.21.2\n",
      "pandas==1.3.2\n",
      "parso==0.8.2\n",
      "pickleshare==0.7.5\n",
      "Pillow==8.3.1\n",
      "prompt-toolkit==3.0.20\n",
      "Pygments==2.10.0\n",
      "pyparsing==2.4.7\n",
      "python-dateutil==2.8.2\n",
      "pytz==2021.1\n",
      "pywin32==301\n",
      "pyzmq==22.2.1\n",
      "six==1.16.0\n",
      "tornado==6.1\n",
      "traitlets==5.0.5\n",
      "typing-extensions==3.10.0.0\n",
      "wcwidth==0.2.5\n",
      "zipp==3.5.0\n",
      "Note: you may need to restart the kernel to use updated packages.\n"
     ]
    }
   ],
   "source": [
    "pip freeze"
   ]
  },
  {
   "cell_type": "code",
   "execution_count": null,
   "metadata": {},
   "outputs": [],
   "source": []
  }
 ],
 "metadata": {
  "kernelspec": {
   "display_name": "test3",
   "language": "python",
   "name": "test3"
  },
  "language_info": {
   "codemirror_mode": {
    "name": "ipython",
    "version": 3
   },
   "file_extension": ".py",
   "mimetype": "text/x-python",
   "name": "python",
   "nbconvert_exporter": "python",
   "pygments_lexer": "ipython3",
   "version": "3.7.4"
  }
 },
 "nbformat": 4,
 "nbformat_minor": 2
}
